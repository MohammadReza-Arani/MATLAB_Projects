{
  "nbformat": 4,
  "nbformat_minor": 0,
  "metadata": {
    "colab": {
      "name": "Convex_Hw3_Q8.ipynb",
      "provenance": []
    },
    "kernelspec": {
      "name": "python3",
      "display_name": "Python 3"
    },
    "language_info": {
      "name": "python"
    }
  },
  "cells": [
    {
      "cell_type": "markdown",
      "source": [
        "                                                  Hw3 Convex\n",
        "                                                  Question 8\n",
        "                                                    Part B"
      ],
      "metadata": {
        "id": "P0t0_uWGVpDT"
      }
    },
    {
      "cell_type": "code",
      "execution_count": 2,
      "metadata": {
        "id": "vBVv09SAVkdj"
      },
      "outputs": [],
      "source": [
        "import cvxpy as cp\n",
        "import numpy as np\n",
        "\n",
        "# Problem data.\n",
        "N=30\n",
        "xdes=np.array([7,2,-6])\n",
        "b=np.array([1,0,0.3])\n",
        "A = np.array([[-1,0.4,0.8],[1,0,0],[0,1,0]])\n"
      ]
    },
    {
      "cell_type": "code",
      "source": [
        "Q=[ np.linalg.matrix_power(A,N-1) @ b for N in range(30,0,-1) ]\n"
      ],
      "metadata": {
        "id": "WtvfQXwnaMld"
      },
      "execution_count": 7,
      "outputs": []
    },
    {
      "cell_type": "code",
      "source": [
        "# Construct the problem.\n",
        "P= cp.Variable(N)\n",
        "U= cp.Variable(N)\n",
        "u= cp.Variable(N)\n",
        "\n",
        "objective = cp.Minimize(   cp.sum(P) )\n",
        "constraints = [ Q @ u == xdes , U <= P , 2*U-1 <= P , -U <= u , u <= U]\n",
        "prob = cp.Problem(objective, constraints)\n",
        "result = prob.solve()\n",
        "print(P.value)"
      ],
      "metadata": {
        "colab": {
          "base_uri": "https://localhost:8080/"
        },
        "id": "Jnzx31zIV6YZ",
        "outputId": "d7f8a02d-1630-4774-d7d0-d1590e6337b1"
      },
      "execution_count": 10,
      "outputs": [
        {
          "output_type": "stream",
          "name": "stdout",
          "text": [
            "[-6.01772274e-12 -1.96880091e-12  3.07123708e-10  1.00000000e+00\n",
            "  1.00000000e+00  1.00000000e+00  2.38804443e-11 -1.10173978e-11\n",
            "  1.67760797e-11  1.00000000e+00  1.00000000e+00  1.00000000e+00\n",
            "  2.46624154e-01 -4.39948481e-12 -9.65234358e-12  8.71912465e-11\n",
            "  1.00000000e+00  1.00000000e+00  1.00000000e+00  8.29229825e-11\n",
            " -1.21300174e-11 -7.67382964e-12  1.00000000e+00  6.98881475e-01\n",
            "  1.00000000e+00  1.23303334e-11  2.27879504e-09  2.33688201e-11\n",
            " -1.28854591e-11  5.37806222e+00]\n"
          ]
        }
      ]
    }
  ]
}