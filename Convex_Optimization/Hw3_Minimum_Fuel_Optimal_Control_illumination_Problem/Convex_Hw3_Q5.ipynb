{
  "cells": [
    {
      "cell_type": "markdown",
      "metadata": {
        "id": "RkoRPPT6PRiF"
      },
      "source": [
        "                                              ***  In the Name of God   ***\n",
        "\n",
        "                                                   Mohammad Reza Arani\n",
        "\n",
        "                                                           Hw3-Q5"
      ]
    },
    {
      "cell_type": "code",
      "execution_count": 1,
      "metadata": {
        "colab": {
          "base_uri": "https://localhost:8080/"
        },
        "id": "1fAK3e56NZup",
        "outputId": "32411c27-035c-4d04-fc51-5bf1d1f3a9e4"
      },
      "outputs": [
        {
          "name": "stdout",
          "output_type": "stream",
          "text": [
            "Collecting cvxpy\n",
            "  Downloading cvxpy-1.2.0-cp38-cp38-win_amd64.whl (832 kB)\n",
            "Requirement already satisfied: scipy>=1.1.0 in c:\\users\\asus\\appdata\\local\\packages\\pythonsoftwarefoundation.python.3.8_qbz5n2kfra8p0\\localcache\\local-packages\\python38\\site-packages (from cvxpy) (1.5.4)\n",
            "Requirement already satisfied: numpy>=1.15 in c:\\users\\asus\\appdata\\local\\packages\\pythonsoftwarefoundation.python.3.8_qbz5n2kfra8p0\\localcache\\local-packages\\python38\\site-packages (from cvxpy) (1.19.4)\n",
            "Collecting osqp>=0.4.1\n",
            "  Downloading osqp-0.6.2.post5-cp38-cp38-win_amd64.whl (278 kB)\n",
            "Collecting ecos>=2\n",
            "  Downloading ecos-2.0.10-cp38-cp38-win_amd64.whl (68 kB)\n",
            "Collecting scs>=1.1.6\n",
            "  Downloading scs-3.2.0-cp38-cp38-win_amd64.whl (8.1 MB)\n",
            "Collecting qdldl\n",
            "  Downloading qdldl-0.1.5.post2-cp38-cp38-win_amd64.whl (83 kB)\n",
            "Installing collected packages: qdldl, scs, osqp, ecos, cvxpyNote: you may need to restart the kernel to use updated packages.\n",
            "Successfully installed cvxpy-1.2.0 ecos-2.0.10 osqp-0.6.2.post5 qdldl-0.1.5.post2 scs-3.2.0\n",
            "\n"
          ]
        },
        {
          "name": "stderr",
          "output_type": "stream",
          "text": [
            "WARNING: You are using pip version 21.1.3; however, version 22.0.4 is available.\n",
            "You should consider upgrading via the 'C:\\Users\\ASUS\\AppData\\Local\\Microsoft\\WindowsApps\\PythonSoftwareFoundation.Python.3.8_qbz5n2kfra8p0\\python.exe -m pip install --upgrade pip' command.\n"
          ]
        }
      ],
      "source": [
        "%pip install cvxpy\n",
        "import cvxpy as cp\n",
        "import numpy as np\n",
        "\n",
        "# Problem data.\n",
        "m = 2\n",
        "n = 1\n",
        "#np.random.seed(1)\n",
        "A = np.array([1,1])\n",
        "b = np.array([0,0])\n"
      ]
    },
    {
      "cell_type": "code",
      "execution_count": 6,
      "metadata": {
        "id": "8TpWcJMoNooy"
      },
      "outputs": [],
      "source": [
        "\n",
        "# Construct the problem.\n",
        "x = cp.Variable(2)\n",
        "objective = cp.Minimize(cp.sum_squares(A @ x - b))\n",
        "constraints = [0 <= x, 1 <= x[0]+3*x[1]  , 1 <= 2*x[0]+x[1]]\n"
      ]
    },
    {
      "cell_type": "code",
      "execution_count": 7,
      "metadata": {
        "colab": {
          "base_uri": "https://localhost:8080/"
        },
        "id": "mYh2jU6_N6je",
        "outputId": "4d12b822-8390-40a3-8ed0-0e33e511277f"
      },
      "outputs": [
        {
          "name": "stdout",
          "output_type": "stream",
          "text": [
            "[0.4 0.2]\n",
            "[0. 0.]\n"
          ]
        }
      ],
      "source": [
        "prob = cp.Problem(objective, constraints)\n",
        "\n",
        "# The optimal objective value is returned by `prob.solve()`.\n",
        "result = prob.solve()\n",
        "# The optimal value for x is stored in `x.value`.\n",
        "print(x.value)\n",
        "# The optimal Lagrange multiplier for a constraint is stored in\n",
        "# `constraint.dual_value`.\n",
        "print(constraints[0].dual_value)"
      ]
    },
    {
      "cell_type": "markdown",
      "metadata": {
        "id": "Kdq0w-TMPLg7"
      },
      "source": [
        "Part B:\n",
        "**bold text**\n",
        "*f0(x1,x2)= -x1-x2:*"
      ]
    },
    {
      "cell_type": "code",
      "execution_count": 19,
      "metadata": {
        "colab": {
          "base_uri": "https://localhost:8080/"
        },
        "id": "My5KthChP0Od",
        "outputId": "f5c0d59d-7c97-436f-cb39-5a5109bfee3a"
      },
      "outputs": [
        {
          "name": "stdout",
          "output_type": "stream",
          "text": [
            "None\n"
          ]
        }
      ],
      "source": [
        "# Construct the problem.\n",
        "x2= cp.Variable(2)\n",
        "objective = cp.Minimize(-x2[1]-x2[0] )\n",
        "constraints = [0 <= x2, 1 <= x2[0]+3*x2[1]  , 1 <= 2*x2[0]+x2[1]]\n",
        "prob = cp.Problem(objective, constraints)\n",
        "result = prob.solve()\n",
        "print(x2.value)"
      ]
    },
    {
      "cell_type": "markdown",
      "metadata": {
        "id": "ymltS-2ISWb9"
      },
      "source": [
        "Part C:\n",
        "f0(x1,x2) = x1"
      ]
    },
    {
      "cell_type": "code",
      "execution_count": 21,
      "metadata": {
        "colab": {
          "base_uri": "https://localhost:8080/"
        },
        "id": "fVkBubeSSbQk",
        "outputId": "c426c8d4-d91e-425b-a5ab-701f0e02edb7"
      },
      "outputs": [
        {
          "name": "stdout",
          "output_type": "stream",
          "text": [
            "[-2.24914418e-10  1.55371590e+00]\n"
          ]
        }
      ],
      "source": [
        "# Construct the problem.\n",
        "x3= cp.Variable(2)\n",
        "objective = cp.Minimize(x3[0])\n",
        "constraints = [0 <= x3[1],0 <= x3[0], 1 <= x3[0]+3*x3[1]  , 1 <= 2*x3[0]+x3[1]]\n",
        "prob = cp.Problem(objective, constraints)\n",
        "result = prob.solve()\n",
        "print(x3.value)"
      ]
    },
    {
      "cell_type": "markdown",
      "metadata": {
        "id": "9OM-AQqcS8JR"
      },
      "source": [
        "Part D:  f0(x1,x2)= max(x1,x2)"
      ]
    },
    {
      "cell_type": "code",
      "execution_count": 22,
      "metadata": {
        "colab": {
          "base_uri": "https://localhost:8080/"
        },
        "id": "HsFHNyCDTDV7",
        "outputId": "4951cc1a-f73c-4bba-a6db-aba41c4876f5"
      },
      "outputs": [
        {
          "name": "stdout",
          "output_type": "stream",
          "text": [
            "[0.33333333 0.33333333]\n"
          ]
        }
      ],
      "source": [
        "# Construct the problem.\n",
        "x3= cp.Variable(2)\n",
        "objective = cp.Minimize(cp.max(x3))\n",
        "constraints = [0 <= x3[1],0 <= x3[0], 1 <= x3[0]+3*x3[1]  , 1 <= 2*x3[0]+x3[1]]\n",
        "prob = cp.Problem(objective, constraints)\n",
        "result = prob.solve()\n",
        "print(x3.value)"
      ]
    },
    {
      "cell_type": "markdown",
      "metadata": {
        "id": "3dSeqncfTvmM"
      },
      "source": [
        "Part E:  f0(x1,x2)= x1^2+9*x^2"
      ]
    },
    {
      "cell_type": "code",
      "execution_count": 24,
      "metadata": {
        "colab": {
          "base_uri": "https://localhost:8080/"
        },
        "id": "dek5eUgdT31S",
        "outputId": "3105b156-429b-476b-c100-d12e1538fd04"
      },
      "outputs": [
        {
          "name": "stdout",
          "output_type": "stream",
          "text": [
            "[0.5        0.16666667]\n"
          ]
        }
      ],
      "source": [
        "# Construct the problem.\n",
        "x4= cp.Variable(2)\n",
        "objective = cp.Minimize(cp.power(x4[0],2)  +  9*cp.power(x4[1],2) )\n",
        "constraints = [0 <= x4[1],0 <= x4[0], 1 <= x4[0]+3*x4[1]  , 1 <= 2*x4[0]+x4[1]]\n",
        "prob = cp.Problem(objective, constraints)\n",
        "result = prob.solve()\n",
        "print(x4.value)"
      ]
    }
  ],
  "metadata": {
    "colab": {
      "collapsed_sections": [],
      "name": "Convex_Hw3_Q5",
      "provenance": []
    },
    "kernelspec": {
      "display_name": "Python 3",
      "name": "python3"
    },
    "language_info": {
      "codemirror_mode": {
        "name": "ipython",
        "version": 3
      },
      "file_extension": ".py",
      "mimetype": "text/x-python",
      "name": "python",
      "nbconvert_exporter": "python",
      "pygments_lexer": "ipython3",
      "version": "3.8.10"
    }
  },
  "nbformat": 4,
  "nbformat_minor": 0
}
