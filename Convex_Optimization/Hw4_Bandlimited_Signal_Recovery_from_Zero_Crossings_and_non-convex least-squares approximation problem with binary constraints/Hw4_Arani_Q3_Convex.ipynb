{
  "nbformat": 4,
  "nbformat_minor": 0,
  "metadata": {
    "colab": {
      "name": "Hw4_Arani_Q3_Convex.ipynb",
      "provenance": []
    },
    "kernelspec": {
      "name": "python3",
      "display_name": "Python 3"
    },
    "language_info": {
      "name": "python"
    }
  },
  "cells": [
    {
      "cell_type": "markdown",
      "source": [
        "                                     In the Name of God\n",
        "                                     Mohammadreza Arani\n",
        "                                        810100511\n",
        "                                           Hw4-Q3"
      ],
      "metadata": {
        "id": "8AQrR6anTMax"
      }
    },
    {
      "cell_type": "code",
      "execution_count": 5,
      "metadata": {
        "id": "7PuLMQY6S-Ug"
      },
      "outputs": [],
      "source": [
        "import cvxpy as cp\n",
        "import numpy as np\n"
      ]
    },
    {
      "cell_type": "code",
      "source": [
        "np.random.seed(20)\n",
        "\n",
        "n=10\n",
        "m=30\n",
        "\n",
        "A = np.random.rand(m,n)\n",
        "b = np.random.rand( m,1 )\n"
      ],
      "metadata": {
        "id": "T1dAXSNJTMMc"
      },
      "execution_count": 7,
      "outputs": []
    },
    {
      "cell_type": "code",
      "source": [
        "c = np.random.normal(0,1,(n,1))+1"
      ],
      "metadata": {
        "id": "RrvRkEYXUdV8"
      },
      "execution_count": 14,
      "outputs": []
    },
    {
      "cell_type": "code",
      "source": [
        "print(np.shape(A))\n",
        "print(np.shape(b))\n",
        "print(np.shape(c))"
      ],
      "metadata": {
        "colab": {
          "base_uri": "https://localhost:8080/"
        },
        "id": "SCiYoCB0UUuu",
        "outputId": "9858426c-9c0e-4d2d-ed77-9ae65c5074b1"
      },
      "execution_count": 15,
      "outputs": [
        {
          "output_type": "stream",
          "name": "stdout",
          "text": [
            "(30, 10)\n",
            "(30, 1)\n",
            "(10, 1)\n"
          ]
        }
      ]
    },
    {
      "cell_type": "code",
      "source": [
        "#F = np.array ( [ [np.eye(n) ] , [-np.eye(n)] , [np.ones((1,n))/n] , [-np.ones((1,n))/n] ] ) \n",
        "\n",
        "F = np.concatenate(  ( np.reshape( np.eye(n) , (n,n)) \n",
        " , np.reshape(np.eye(n) , (n,n) ) ,\n",
        "  np.reshape( np.ones((1,n))/n , (1,n) ) ,\n",
        "  np.reshape( np.ones((1,n))/n , (1,n) )  \n",
        "                     )\n",
        "                 )\n",
        "\n",
        "g = np.concatenate(  ( np.reshape(np.array([5/4*c]) , (10,1)) \n",
        " , np.reshape(np.array([-3/4*c]) , (10,1) ) ,\n",
        "  np.reshape( np.array([1.1*np.sum(c)/n]) , (1,1) ) ,\n",
        "  np.reshape( np.array([-0.9*np.sum(c)/n]), (1,1) )   )\n",
        "                 )\n",
        "\n",
        "K = len(g)\n",
        "\n",
        "Rob_X = cp.Variable(n) \n",
        "Lambda = cp.Variable(K)\n",
        "\n",
        "objective = cp.Minimize( Lambda.T @ g  )\n",
        "constraints = [ A@cp.reshape(Rob_X , (10,1)) >= b , Lambda >= 0 , F.T@Lambda == Rob_X ]\n",
        "prob = cp.Problem(objective, constraints)\n",
        "result = prob.solve()\n",
        "print(Rob_X.value) # Robust X* (Optimal Point)\n",
        "print('Lambda:')\n",
        "print(Lambda.value)\n",
        "print(result) # P* (Optimal Value)"
      ],
      "metadata": {
        "colab": {
          "base_uri": "https://localhost:8080/"
        },
        "id": "nOc_2GPqU34-",
        "outputId": "35e81171-e026-4900-c1c5-aa130302a529"
      },
      "execution_count": 89,
      "outputs": [
        {
          "output_type": "stream",
          "name": "stdout",
          "text": [
            "None\n",
            "Lambda:\n",
            "None\n",
            "-inf\n"
          ]
        }
      ]
    },
    {
      "cell_type": "code",
      "source": [
        "Lambda.T @ g"
      ],
      "metadata": {
        "colab": {
          "base_uri": "https://localhost:8080/"
        },
        "id": "zVKqPzyNVodp",
        "outputId": "fee8c7d4-a35b-4b1f-9b93-000d4f19a1c1"
      },
      "execution_count": 88,
      "outputs": [
        {
          "output_type": "execute_result",
          "data": {
            "text/plain": [
              "Expression(AFFINE, UNKNOWN, (1,))"
            ]
          },
          "metadata": {},
          "execution_count": 88
        }
      ]
    },
    {
      "cell_type": "code",
      "source": [
        "np.shape(Rob_X)"
      ],
      "metadata": {
        "colab": {
          "base_uri": "https://localhost:8080/"
        },
        "id": "IPe54uhLXrgL",
        "outputId": "376e5d24-ebce-4802-973e-8d8268040537"
      },
      "execution_count": 80,
      "outputs": [
        {
          "output_type": "execute_result",
          "data": {
            "text/plain": [
              "(10,)"
            ]
          },
          "metadata": {},
          "execution_count": 80
        }
      ]
    }
  ]
}