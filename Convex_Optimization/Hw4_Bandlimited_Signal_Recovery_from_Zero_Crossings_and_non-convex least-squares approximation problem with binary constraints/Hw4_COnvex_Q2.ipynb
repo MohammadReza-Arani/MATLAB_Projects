{
  "nbformat": 4,
  "nbformat_minor": 0,
  "metadata": {
    "colab": {
      "name": "Hw4_COnvex_Q2.ipynb",
      "provenance": []
    },
    "kernelspec": {
      "name": "python3",
      "display_name": "Python 3"
    },
    "language_info": {
      "name": "python"
    }
  },
  "cells": [
    {
      "cell_type": "markdown",
      "source": [
        "                                                            In the Name of God\n",
        "                                                              Hw4_Question2\n",
        "                                                            Mohammadreza Arani\n",
        "                                                                810100511"
      ],
      "metadata": {
        "id": "zNstZTj1lM_t"
      }
    },
    {
      "cell_type": "code",
      "execution_count": 2,
      "metadata": {
        "id": "B5P3-fEflCOL"
      },
      "outputs": [],
      "source": [
        "import cvxpy as cp\n",
        "import numpy as np"
      ]
    },
    {
      "cell_type": "code",
      "source": [
        "# Part (a):\n",
        "u1=-2\n",
        "u2=-3\n",
        "A=np.array([[1,-0.5],[-0.5,2]])"
      ],
      "metadata": {
        "id": "p3aBxqsjlMSC"
      },
      "execution_count": 41,
      "outputs": []
    },
    {
      "cell_type": "code",
      "source": [
        "X= cp.Variable(2)\n",
        "\n",
        "\n",
        "objective = cp.Minimize(   cp.quad_form(X,A) - X[0] )\n",
        "\n",
        "constraints = [ X[0]+2*X[1] <= u1 , X[0]-4*X[1] <=u2 , 5*X[0] +76*X[1] <=1]\n",
        "prob = cp.Problem(objective, constraints)\n",
        "result = prob.solve()\n",
        "print(X.value) # X* (Optimal Point)\n",
        "print(result) # P* (Optimal Value)"
      ],
      "metadata": {
        "colab": {
          "base_uri": "https://localhost:8080/"
        },
        "id": "lqv8gQNsm94j",
        "outputId": "4f5da56f-4db7-4596-8e56-d990283f3e29"
      },
      "execution_count": 4,
      "outputs": [
        {
          "output_type": "stream",
          "name": "stdout",
          "text": [
            "[-2.33333333  0.16666667]\n",
            "8.222222222222223\n"
          ]
        }
      ]
    },
    {
      "cell_type": "code",
      "source": [
        "# Part (b):\n",
        "S=np.array([[1 ,2], [1,-4],[5,76]])\n",
        "b=np.array([[u1],[u2],[1]])\n",
        "c=np.array([[-1],[0]])\n",
        "\n",
        "\n",
        "X2= cp.Variable(3)\n",
        "\n",
        "\n",
        "objective = cp.Maximize(   -cp.quad_form(0.5*(S.T @ X2 + cp.reshape(c,(2,))), np.linalg.inv(A)) - b.T * X2 )\n",
        "\n",
        "constraints = [ X2 >= 0]\n",
        "prob = cp.Problem(objective, constraints)\n",
        "result = prob.solve()\n",
        "print(X2.value) # X* (Optimal Point)\n",
        "print(result) # P* (Optimal Value) == d* => String duality holds!\n",
        "p_star=result\n"
      ],
      "metadata": {
        "colab": {
          "base_uri": "https://localhost:8080/"
        },
        "id": "iIzQc4vPolXm",
        "outputId": "96746b38-ba7c-4543-ed15-5a354ba5eb19"
      },
      "execution_count": 42,
      "outputs": [
        {
          "output_type": "stream",
          "name": "stdout",
          "text": [
            "[2.83176483 2.82746724 0.03482025]\n",
            "8.222222222222221\n"
          ]
        }
      ]
    },
    {
      "cell_type": "code",
      "source": [
        "print(\"Lambda Values :\")\n",
        "print(X2.value)"
      ],
      "metadata": {
        "colab": {
          "base_uri": "https://localhost:8080/"
        },
        "id": "1I3UnkV4quJp",
        "outputId": "8dc39cff-a0c1-4b3e-9b97-84309d178b03"
      },
      "execution_count": 11,
      "outputs": [
        {
          "output_type": "stream",
          "name": "stdout",
          "text": [
            "Lambda Values :\n",
            "[2.83176483 2.82746724 0.03482025]\n"
          ]
        }
      ]
    },
    {
      "cell_type": "code",
      "source": [
        "# Checking KKT Conditions:\n",
        "#1) primal constraints:\n",
        "print(np.prod(S@X.value-b))\n",
        "# 2) dual constraints:\n",
        "print(-np.prod(X.value))\n",
        "# 3) Complementary Slackness:\n",
        "print(np.reshape(X2.value , (1,3) ) @  ( np.reshape((S@X.value.T) , (3,1) )-b ))\n"
      ],
      "metadata": {
        "colab": {
          "base_uri": "https://localhost:8080/"
        },
        "id": "hmkZDiP7r0fo",
        "outputId": "e6174417-2249-4f21-8476-83c3847e9195"
      },
      "execution_count": 33,
      "outputs": [
        {
          "output_type": "stream",
          "name": "stdout",
          "text": [
            "-0.0\n",
            "0.38888888888888895\n",
            "[[1.44311579e-15]]\n"
          ]
        }
      ]
    },
    {
      "cell_type": "markdown",
      "source": [
        "\n",
        "Question 2 - Part (b):\n",
        "> Indented block\n",
        "\n"
      ],
      "metadata": {
        "id": "o_5I2OU_MaJW"
      }
    },
    {
      "cell_type": "code",
      "source": [
        "P = np.array([[1,-0.5],[-0.5,2]])\n",
        "A = np.array([[1,2],[1,-4],[5,76]])\n",
        "c = np.array([[-1],[0]])\n",
        "\n",
        "diff1 = np.reshape(np.array([-0.1,0,0.1]) , (1,3) )\n",
        "diff2 = diff1\n",
        "\n",
        "\n",
        "\n"
      ],
      "metadata": {
        "id": "a_7priecLLGI"
      },
      "execution_count": 53,
      "outputs": []
    },
    {
      "cell_type": "code",
      "source": [
        "def  to_solve(P,A,b,c):\n",
        "  X=cp.Variable(2)\n",
        "  objective = cp.Minimize( cp.quad_form(X,P) +c.T@X )\n",
        "  constraints = [ A@cp.reshape(X, (2,1)) <= b]\n",
        "  prob = cp.Problem(objective, constraints)\n",
        "  result = prob.solve()\n",
        "  return result"
      ],
      "metadata": {
        "id": "72TLOURxNMkt"
      },
      "execution_count": 48,
      "outputs": []
    },
    {
      "cell_type": "code",
      "source": [
        "p_real = np.empty(shape=(3,3))\n",
        "p_real.fill(1)\n",
        "\n",
        "p_gained = np.empty(shape=(3,3))\n",
        "p_gained.fill(1)\n",
        "\n",
        "for i in range(0,3):\n",
        "  for j in range(0,3):\n",
        "      b = np.reshape(np.array([ [-2 + diff1[0][i] ],[-3 +diff2[0][j]] ,[1] ]) , (3,1) )\n",
        "      p_real[i][j] = to_solve(P,A,b,c)\n",
        "      p_gained[i][j] = p_star - np.array([diff1[0][i] , diff2[0][j] , 0  ]) @ np.reshape(X2.value , (3,1) ) \n"
      ],
      "metadata": {
        "id": "8E9noNGzOPCO"
      },
      "execution_count": 55,
      "outputs": []
    },
    {
      "cell_type": "code",
      "source": [
        "print(p_real - p_gained) # check to see the under estimator\n"
      ],
      "metadata": {
        "colab": {
          "base_uri": "https://localhost:8080/"
        },
        "id": "8Jhn2iuqOv2m",
        "outputId": "83dd403c-9427-45f4-b94a-1e75930de108"
      },
      "execution_count": 56,
      "outputs": [
        {
          "output_type": "stream",
          "name": "stdout",
          "text": [
            "[[2.74101269e-02 5.96012948e-02 9.62369072e-02]\n",
            " [2.01417773e-01 1.77635684e-15 4.05245013e-02]\n",
            " [4.84594256e-01 2.83176483e-01 9.52265919e-02]]\n"
          ]
        }
      ]
    },
    {
      "cell_type": "code",
      "source": [
        ""
      ],
      "metadata": {
        "colab": {
          "base_uri": "https://localhost:8080/"
        },
        "id": "eJeV2BR-Rmak",
        "outputId": "deb683a2-a988-4557-d95f-547070088df0"
      },
      "execution_count": 51,
      "outputs": [
        {
          "output_type": "execute_result",
          "data": {
            "text/plain": [
              "Expression(AFFINE, UNKNOWN, (2, 1))"
            ]
          },
          "metadata": {},
          "execution_count": 51
        }
      ]
    }
  ]
}